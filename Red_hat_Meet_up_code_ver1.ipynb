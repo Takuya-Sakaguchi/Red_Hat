{
 "cells": [
  {
   "cell_type": "code",
   "execution_count": 9,
   "metadata": {
    "collapsed": true
   },
   "outputs": [],
   "source": [
    "import pandas as pd\n",
    "import numpy as np\n",
    "from matplotlib import pyplot as plt\n",
    "%matplotlib inline"
   ]
  },
  {
   "cell_type": "code",
   "execution_count": 10,
   "metadata": {
    "collapsed": true
   },
   "outputs": [],
   "source": [
    "df_train = pd.read_csv(\"act_train.csv\", parse_dates=['date'])"
   ]
  },
  {
   "cell_type": "code",
   "execution_count": 11,
   "metadata": {
    "collapsed": true
   },
   "outputs": [],
   "source": [
    "df_ppl = pd.read_csv('people.csv', parse_dates=['date'])"
   ]
  },
  {
   "cell_type": "code",
   "execution_count": 12,
   "metadata": {
    "collapsed": true
   },
   "outputs": [],
   "source": [
    "df_test = pd.read_csv('act_test.csv', parse_dates=['date'])"
   ]
  },
  {
   "cell_type": "code",
   "execution_count": 62,
   "metadata": {
    "collapsed": true
   },
   "outputs": [],
   "source": [
    "df_sample_submission = pd.read_csv('sample_submission.csv')"
   ]
  },
  {
   "cell_type": "code",
   "execution_count": 14,
   "metadata": {
    "collapsed": false
   },
   "outputs": [],
   "source": [
    "df_train_merge = pd.merge(df_train, df_ppl, on='people_id')\n",
    "df_test_merge = pd.merge(df_test, df_ppl, on='people_id')"
   ]
  },
  {
   "cell_type": "code",
   "execution_count": 15,
   "metadata": {
    "collapsed": true
   },
   "outputs": [],
   "source": [
    "train = pd.read_csv(\"train_merged_converted.csv\")"
   ]
  },
  {
   "cell_type": "code",
   "execution_count": 16,
   "metadata": {
    "collapsed": true
   },
   "outputs": [],
   "source": [
    "test = pd.read_csv('test_merged_converted.csv')"
   ]
  },
  {
   "cell_type": "code",
   "execution_count": 17,
   "metadata": {
    "collapsed": true
   },
   "outputs": [],
   "source": [
    "import datetime\n",
    "import pandas as pd\n",
    "import numpy as np\n",
    "from sklearn.cross_validation import KFold\n",
    "from sklearn.cross_validation import train_test_split\n",
    "from sklearn.metrics import roc_auc_score\n",
    "import xgboost as xgb\n",
    "import random\n",
    "from operator import itemgetter\n",
    "import time\n",
    "import copy\n",
    "\n",
    "random.seed(2)\n",
    "\n",
    "\n"
   ]
  },
  {
   "cell_type": "code",
   "execution_count": 18,
   "metadata": {
    "collapsed": true
   },
   "outputs": [],
   "source": [
    "random_state = 0"
   ]
  },
  {
   "cell_type": "code",
   "execution_count": 20,
   "metadata": {
    "collapsed": false
   },
   "outputs": [
    {
     "data": {
      "text/html": [
       "<div>\n",
       "<table border=\"1\" class=\"dataframe\">\n",
       "  <thead>\n",
       "    <tr style=\"text-align: right;\">\n",
       "      <th></th>\n",
       "      <th></th>\n",
       "      <th>activity_category</th>\n",
       "      <th>char_10_x</th>\n",
       "      <th>char_10_y</th>\n",
       "      <th>char_11</th>\n",
       "      <th>char_12</th>\n",
       "      <th>char_13</th>\n",
       "      <th>char_14</th>\n",
       "      <th>char_15</th>\n",
       "      <th>char_16</th>\n",
       "      <th>char_17</th>\n",
       "      <th>...</th>\n",
       "      <th>char_8_y</th>\n",
       "      <th>char_9_x</th>\n",
       "      <th>char_9_y</th>\n",
       "      <th>day_x</th>\n",
       "      <th>day_y</th>\n",
       "      <th>group_1</th>\n",
       "      <th>month_x</th>\n",
       "      <th>month_y</th>\n",
       "      <th>year_x</th>\n",
       "      <th>year_y</th>\n",
       "    </tr>\n",
       "    <tr>\n",
       "      <th>outcome</th>\n",
       "      <th></th>\n",
       "      <th></th>\n",
       "      <th></th>\n",
       "      <th></th>\n",
       "      <th></th>\n",
       "      <th></th>\n",
       "      <th></th>\n",
       "      <th></th>\n",
       "      <th></th>\n",
       "      <th></th>\n",
       "      <th></th>\n",
       "      <th></th>\n",
       "      <th></th>\n",
       "      <th></th>\n",
       "      <th></th>\n",
       "      <th></th>\n",
       "      <th></th>\n",
       "      <th></th>\n",
       "      <th></th>\n",
       "      <th></th>\n",
       "      <th></th>\n",
       "      <th></th>\n",
       "    </tr>\n",
       "  </thead>\n",
       "  <tbody>\n",
       "    <tr>\n",
       "      <th rowspan=\"8\" valign=\"top\">0</th>\n",
       "      <th>count</th>\n",
       "      <td>1.221794e+06</td>\n",
       "      <td>1.221794e+06</td>\n",
       "      <td>1.221794e+06</td>\n",
       "      <td>1.221794e+06</td>\n",
       "      <td>1.221794e+06</td>\n",
       "      <td>1.221794e+06</td>\n",
       "      <td>1.221794e+06</td>\n",
       "      <td>1.221794e+06</td>\n",
       "      <td>1.221794e+06</td>\n",
       "      <td>1.221794e+06</td>\n",
       "      <td>...</td>\n",
       "      <td>1.221794e+06</td>\n",
       "      <td>1.221794e+06</td>\n",
       "      <td>1.221794e+06</td>\n",
       "      <td>1.221794e+06</td>\n",
       "      <td>1.221794e+06</td>\n",
       "      <td>1.221794e+06</td>\n",
       "      <td>1.221794e+06</td>\n",
       "      <td>1.221794e+06</td>\n",
       "      <td>1.221794e+06</td>\n",
       "      <td>1.221794e+06</td>\n",
       "    </tr>\n",
       "    <tr>\n",
       "      <th>mean</th>\n",
       "      <td>3.000613e+00</td>\n",
       "      <td>3.629412e+02</td>\n",
       "      <td>1.384194e-01</td>\n",
       "      <td>1.246814e-01</td>\n",
       "      <td>1.496030e-01</td>\n",
       "      <td>2.122657e-01</td>\n",
       "      <td>1.586855e-01</td>\n",
       "      <td>1.582795e-01</td>\n",
       "      <td>1.579530e-01</td>\n",
       "      <td>1.646489e-01</td>\n",
       "      <td>...</td>\n",
       "      <td>3.173525e+00</td>\n",
       "      <td>-9.225947e+02</td>\n",
       "      <td>3.405861e+00</td>\n",
       "      <td>1.712972e+01</td>\n",
       "      <td>1.587625e+01</td>\n",
       "      <td>1.823986e+04</td>\n",
       "      <td>7.142654e+00</td>\n",
       "      <td>6.697368e+00</td>\n",
       "      <td>2.022458e+03</td>\n",
       "      <td>2.021778e+03</td>\n",
       "    </tr>\n",
       "    <tr>\n",
       "      <th>std</th>\n",
       "      <td>1.275466e+00</td>\n",
       "      <td>1.161698e+03</td>\n",
       "      <td>3.453398e-01</td>\n",
       "      <td>3.303575e-01</td>\n",
       "      <td>3.566820e-01</td>\n",
       "      <td>4.089121e-01</td>\n",
       "      <td>3.653827e-01</td>\n",
       "      <td>3.650031e-01</td>\n",
       "      <td>3.646971e-01</td>\n",
       "      <td>3.708635e-01</td>\n",
       "      <td>...</td>\n",
       "      <td>1.449145e+00</td>\n",
       "      <td>2.665276e+02</td>\n",
       "      <td>1.700472e+00</td>\n",
       "      <td>8.710963e+00</td>\n",
       "      <td>9.195526e+00</td>\n",
       "      <td>7.056647e+03</td>\n",
       "      <td>3.325074e+00</td>\n",
       "      <td>3.513267e+00</td>\n",
       "      <td>4.982662e-01</td>\n",
       "      <td>8.429008e-01</td>\n",
       "    </tr>\n",
       "    <tr>\n",
       "      <th>min</th>\n",
       "      <td>1.000000e+00</td>\n",
       "      <td>-9.990000e+02</td>\n",
       "      <td>0.000000e+00</td>\n",
       "      <td>0.000000e+00</td>\n",
       "      <td>0.000000e+00</td>\n",
       "      <td>0.000000e+00</td>\n",
       "      <td>0.000000e+00</td>\n",
       "      <td>0.000000e+00</td>\n",
       "      <td>0.000000e+00</td>\n",
       "      <td>0.000000e+00</td>\n",
       "      <td>...</td>\n",
       "      <td>1.000000e+00</td>\n",
       "      <td>-9.990000e+02</td>\n",
       "      <td>1.000000e+00</td>\n",
       "      <td>1.000000e+00</td>\n",
       "      <td>1.000000e+00</td>\n",
       "      <td>1.000000e+00</td>\n",
       "      <td>1.000000e+00</td>\n",
       "      <td>1.000000e+00</td>\n",
       "      <td>2.022000e+03</td>\n",
       "      <td>2.020000e+03</td>\n",
       "    </tr>\n",
       "    <tr>\n",
       "      <th>25%</th>\n",
       "      <td>2.000000e+00</td>\n",
       "      <td>1.000000e+00</td>\n",
       "      <td>0.000000e+00</td>\n",
       "      <td>0.000000e+00</td>\n",
       "      <td>0.000000e+00</td>\n",
       "      <td>0.000000e+00</td>\n",
       "      <td>0.000000e+00</td>\n",
       "      <td>0.000000e+00</td>\n",
       "      <td>0.000000e+00</td>\n",
       "      <td>0.000000e+00</td>\n",
       "      <td>...</td>\n",
       "      <td>3.000000e+00</td>\n",
       "      <td>-9.990000e+02</td>\n",
       "      <td>3.000000e+00</td>\n",
       "      <td>1.000000e+01</td>\n",
       "      <td>8.000000e+00</td>\n",
       "      <td>1.730400e+04</td>\n",
       "      <td>4.000000e+00</td>\n",
       "      <td>3.000000e+00</td>\n",
       "      <td>2.022000e+03</td>\n",
       "      <td>2.021000e+03</td>\n",
       "    </tr>\n",
       "    <tr>\n",
       "      <th>50%</th>\n",
       "      <td>3.000000e+00</td>\n",
       "      <td>5.000000e+00</td>\n",
       "      <td>0.000000e+00</td>\n",
       "      <td>0.000000e+00</td>\n",
       "      <td>0.000000e+00</td>\n",
       "      <td>0.000000e+00</td>\n",
       "      <td>0.000000e+00</td>\n",
       "      <td>0.000000e+00</td>\n",
       "      <td>0.000000e+00</td>\n",
       "      <td>0.000000e+00</td>\n",
       "      <td>...</td>\n",
       "      <td>3.000000e+00</td>\n",
       "      <td>-9.990000e+02</td>\n",
       "      <td>3.000000e+00</td>\n",
       "      <td>1.800000e+01</td>\n",
       "      <td>1.600000e+01</td>\n",
       "      <td>1.730400e+04</td>\n",
       "      <td>8.000000e+00</td>\n",
       "      <td>7.000000e+00</td>\n",
       "      <td>2.022000e+03</td>\n",
       "      <td>2.022000e+03</td>\n",
       "    </tr>\n",
       "    <tr>\n",
       "      <th>75%</th>\n",
       "      <td>4.000000e+00</td>\n",
       "      <td>2.910000e+02</td>\n",
       "      <td>0.000000e+00</td>\n",
       "      <td>0.000000e+00</td>\n",
       "      <td>0.000000e+00</td>\n",
       "      <td>0.000000e+00</td>\n",
       "      <td>0.000000e+00</td>\n",
       "      <td>0.000000e+00</td>\n",
       "      <td>0.000000e+00</td>\n",
       "      <td>0.000000e+00</td>\n",
       "      <td>...</td>\n",
       "      <td>3.000000e+00</td>\n",
       "      <td>-9.990000e+02</td>\n",
       "      <td>3.000000e+00</td>\n",
       "      <td>2.400000e+01</td>\n",
       "      <td>2.500000e+01</td>\n",
       "      <td>1.730400e+04</td>\n",
       "      <td>1.000000e+01</td>\n",
       "      <td>1.000000e+01</td>\n",
       "      <td>2.023000e+03</td>\n",
       "      <td>2.022000e+03</td>\n",
       "    </tr>\n",
       "    <tr>\n",
       "      <th>max</th>\n",
       "      <td>7.000000e+00</td>\n",
       "      <td>9.251000e+03</td>\n",
       "      <td>1.000000e+00</td>\n",
       "      <td>1.000000e+00</td>\n",
       "      <td>1.000000e+00</td>\n",
       "      <td>1.000000e+00</td>\n",
       "      <td>1.000000e+00</td>\n",
       "      <td>1.000000e+00</td>\n",
       "      <td>1.000000e+00</td>\n",
       "      <td>1.000000e+00</td>\n",
       "      <td>...</td>\n",
       "      <td>8.000000e+00</td>\n",
       "      <td>1.900000e+01</td>\n",
       "      <td>9.000000e+00</td>\n",
       "      <td>3.100000e+01</td>\n",
       "      <td>3.100000e+01</td>\n",
       "      <td>5.146100e+04</td>\n",
       "      <td>1.200000e+01</td>\n",
       "      <td>1.200000e+01</td>\n",
       "      <td>2.023000e+03</td>\n",
       "      <td>2.023000e+03</td>\n",
       "    </tr>\n",
       "    <tr>\n",
       "      <th rowspan=\"8\" valign=\"top\">1</th>\n",
       "      <th>count</th>\n",
       "      <td>9.754970e+05</td>\n",
       "      <td>9.754970e+05</td>\n",
       "      <td>9.754970e+05</td>\n",
       "      <td>9.754970e+05</td>\n",
       "      <td>9.754970e+05</td>\n",
       "      <td>9.754970e+05</td>\n",
       "      <td>9.754970e+05</td>\n",
       "      <td>9.754970e+05</td>\n",
       "      <td>9.754970e+05</td>\n",
       "      <td>9.754970e+05</td>\n",
       "      <td>...</td>\n",
       "      <td>9.754970e+05</td>\n",
       "      <td>9.754970e+05</td>\n",
       "      <td>9.754970e+05</td>\n",
       "      <td>9.754970e+05</td>\n",
       "      <td>9.754970e+05</td>\n",
       "      <td>9.754970e+05</td>\n",
       "      <td>9.754970e+05</td>\n",
       "      <td>9.754970e+05</td>\n",
       "      <td>9.754970e+05</td>\n",
       "      <td>9.754970e+05</td>\n",
       "    </tr>\n",
       "    <tr>\n",
       "      <th>mean</th>\n",
       "      <td>2.993449e+00</td>\n",
       "      <td>4.374892e+02</td>\n",
       "      <td>3.700801e-01</td>\n",
       "      <td>3.090271e-01</td>\n",
       "      <td>3.415080e-01</td>\n",
       "      <td>5.213179e-01</td>\n",
       "      <td>3.759314e-01</td>\n",
       "      <td>3.918936e-01</td>\n",
       "      <td>4.064215e-01</td>\n",
       "      <td>4.238342e-01</td>\n",
       "      <td>...</td>\n",
       "      <td>2.993560e+00</td>\n",
       "      <td>-9.321205e+02</td>\n",
       "      <td>3.564167e+00</td>\n",
       "      <td>1.620506e+01</td>\n",
       "      <td>1.574947e+01</td>\n",
       "      <td>1.365842e+04</td>\n",
       "      <td>6.742545e+00</td>\n",
       "      <td>6.894524e+00</td>\n",
       "      <td>2.022526e+03</td>\n",
       "      <td>2.021818e+03</td>\n",
       "    </tr>\n",
       "    <tr>\n",
       "      <th>std</th>\n",
       "      <td>1.360862e+00</td>\n",
       "      <td>1.291335e+03</td>\n",
       "      <td>4.828261e-01</td>\n",
       "      <td>4.620926e-01</td>\n",
       "      <td>4.742157e-01</td>\n",
       "      <td>4.995456e-01</td>\n",
       "      <td>4.843627e-01</td>\n",
       "      <td>4.881734e-01</td>\n",
       "      <td>4.911653e-01</td>\n",
       "      <td>4.941650e-01</td>\n",
       "      <td>...</td>\n",
       "      <td>1.659583e+00</td>\n",
       "      <td>2.506609e+02</td>\n",
       "      <td>2.185201e+00</td>\n",
       "      <td>8.861836e+00</td>\n",
       "      <td>9.234192e+00</td>\n",
       "      <td>1.190185e+04</td>\n",
       "      <td>3.406042e+00</td>\n",
       "      <td>3.327347e+00</td>\n",
       "      <td>4.993203e-01</td>\n",
       "      <td>7.954273e-01</td>\n",
       "    </tr>\n",
       "    <tr>\n",
       "      <th>min</th>\n",
       "      <td>1.000000e+00</td>\n",
       "      <td>-9.990000e+02</td>\n",
       "      <td>0.000000e+00</td>\n",
       "      <td>0.000000e+00</td>\n",
       "      <td>0.000000e+00</td>\n",
       "      <td>0.000000e+00</td>\n",
       "      <td>0.000000e+00</td>\n",
       "      <td>0.000000e+00</td>\n",
       "      <td>0.000000e+00</td>\n",
       "      <td>0.000000e+00</td>\n",
       "      <td>...</td>\n",
       "      <td>1.000000e+00</td>\n",
       "      <td>-9.990000e+02</td>\n",
       "      <td>1.000000e+00</td>\n",
       "      <td>1.000000e+00</td>\n",
       "      <td>1.000000e+00</td>\n",
       "      <td>2.000000e+00</td>\n",
       "      <td>1.000000e+00</td>\n",
       "      <td>1.000000e+00</td>\n",
       "      <td>2.022000e+03</td>\n",
       "      <td>2.020000e+03</td>\n",
       "    </tr>\n",
       "    <tr>\n",
       "      <th>25%</th>\n",
       "      <td>2.000000e+00</td>\n",
       "      <td>1.000000e+00</td>\n",
       "      <td>0.000000e+00</td>\n",
       "      <td>0.000000e+00</td>\n",
       "      <td>0.000000e+00</td>\n",
       "      <td>0.000000e+00</td>\n",
       "      <td>0.000000e+00</td>\n",
       "      <td>0.000000e+00</td>\n",
       "      <td>0.000000e+00</td>\n",
       "      <td>0.000000e+00</td>\n",
       "      <td>...</td>\n",
       "      <td>2.000000e+00</td>\n",
       "      <td>-9.990000e+02</td>\n",
       "      <td>2.000000e+00</td>\n",
       "      <td>9.000000e+00</td>\n",
       "      <td>7.000000e+00</td>\n",
       "      <td>3.250000e+03</td>\n",
       "      <td>3.000000e+00</td>\n",
       "      <td>4.000000e+00</td>\n",
       "      <td>2.022000e+03</td>\n",
       "      <td>2.021000e+03</td>\n",
       "    </tr>\n",
       "    <tr>\n",
       "      <th>50%</th>\n",
       "      <td>2.000000e+00</td>\n",
       "      <td>1.000000e+00</td>\n",
       "      <td>0.000000e+00</td>\n",
       "      <td>0.000000e+00</td>\n",
       "      <td>0.000000e+00</td>\n",
       "      <td>1.000000e+00</td>\n",
       "      <td>0.000000e+00</td>\n",
       "      <td>0.000000e+00</td>\n",
       "      <td>0.000000e+00</td>\n",
       "      <td>0.000000e+00</td>\n",
       "      <td>...</td>\n",
       "      <td>2.000000e+00</td>\n",
       "      <td>-9.990000e+02</td>\n",
       "      <td>3.000000e+00</td>\n",
       "      <td>1.600000e+01</td>\n",
       "      <td>1.500000e+01</td>\n",
       "      <td>1.048200e+04</td>\n",
       "      <td>7.000000e+00</td>\n",
       "      <td>7.000000e+00</td>\n",
       "      <td>2.023000e+03</td>\n",
       "      <td>2.022000e+03</td>\n",
       "    </tr>\n",
       "    <tr>\n",
       "      <th>75%</th>\n",
       "      <td>4.000000e+00</td>\n",
       "      <td>4.410000e+02</td>\n",
       "      <td>1.000000e+00</td>\n",
       "      <td>1.000000e+00</td>\n",
       "      <td>1.000000e+00</td>\n",
       "      <td>1.000000e+00</td>\n",
       "      <td>1.000000e+00</td>\n",
       "      <td>1.000000e+00</td>\n",
       "      <td>1.000000e+00</td>\n",
       "      <td>1.000000e+00</td>\n",
       "      <td>...</td>\n",
       "      <td>3.000000e+00</td>\n",
       "      <td>-9.990000e+02</td>\n",
       "      <td>4.000000e+00</td>\n",
       "      <td>2.400000e+01</td>\n",
       "      <td>2.500000e+01</td>\n",
       "      <td>2.102100e+04</td>\n",
       "      <td>1.000000e+01</td>\n",
       "      <td>1.000000e+01</td>\n",
       "      <td>2.023000e+03</td>\n",
       "      <td>2.022000e+03</td>\n",
       "    </tr>\n",
       "    <tr>\n",
       "      <th>max</th>\n",
       "      <td>7.000000e+00</td>\n",
       "      <td>9.235000e+03</td>\n",
       "      <td>1.000000e+00</td>\n",
       "      <td>1.000000e+00</td>\n",
       "      <td>1.000000e+00</td>\n",
       "      <td>1.000000e+00</td>\n",
       "      <td>1.000000e+00</td>\n",
       "      <td>1.000000e+00</td>\n",
       "      <td>1.000000e+00</td>\n",
       "      <td>1.000000e+00</td>\n",
       "      <td>...</td>\n",
       "      <td>8.000000e+00</td>\n",
       "      <td>1.900000e+01</td>\n",
       "      <td>9.000000e+00</td>\n",
       "      <td>3.100000e+01</td>\n",
       "      <td>3.100000e+01</td>\n",
       "      <td>5.146200e+04</td>\n",
       "      <td>1.200000e+01</td>\n",
       "      <td>1.200000e+01</td>\n",
       "      <td>2.023000e+03</td>\n",
       "      <td>2.023000e+03</td>\n",
       "    </tr>\n",
       "  </tbody>\n",
       "</table>\n",
       "<p>16 rows × 56 columns</p>\n",
       "</div>"
      ],
      "text/plain": [
       "               activity_category     char_10_x     char_10_y       char_11  \\\n",
       "outcome                                                                      \n",
       "0       count       1.221794e+06  1.221794e+06  1.221794e+06  1.221794e+06   \n",
       "        mean        3.000613e+00  3.629412e+02  1.384194e-01  1.246814e-01   \n",
       "        std         1.275466e+00  1.161698e+03  3.453398e-01  3.303575e-01   \n",
       "        min         1.000000e+00 -9.990000e+02  0.000000e+00  0.000000e+00   \n",
       "        25%         2.000000e+00  1.000000e+00  0.000000e+00  0.000000e+00   \n",
       "        50%         3.000000e+00  5.000000e+00  0.000000e+00  0.000000e+00   \n",
       "        75%         4.000000e+00  2.910000e+02  0.000000e+00  0.000000e+00   \n",
       "        max         7.000000e+00  9.251000e+03  1.000000e+00  1.000000e+00   \n",
       "1       count       9.754970e+05  9.754970e+05  9.754970e+05  9.754970e+05   \n",
       "        mean        2.993449e+00  4.374892e+02  3.700801e-01  3.090271e-01   \n",
       "        std         1.360862e+00  1.291335e+03  4.828261e-01  4.620926e-01   \n",
       "        min         1.000000e+00 -9.990000e+02  0.000000e+00  0.000000e+00   \n",
       "        25%         2.000000e+00  1.000000e+00  0.000000e+00  0.000000e+00   \n",
       "        50%         2.000000e+00  1.000000e+00  0.000000e+00  0.000000e+00   \n",
       "        75%         4.000000e+00  4.410000e+02  1.000000e+00  1.000000e+00   \n",
       "        max         7.000000e+00  9.235000e+03  1.000000e+00  1.000000e+00   \n",
       "\n",
       "                    char_12       char_13       char_14       char_15  \\\n",
       "outcome                                                                 \n",
       "0       count  1.221794e+06  1.221794e+06  1.221794e+06  1.221794e+06   \n",
       "        mean   1.496030e-01  2.122657e-01  1.586855e-01  1.582795e-01   \n",
       "        std    3.566820e-01  4.089121e-01  3.653827e-01  3.650031e-01   \n",
       "        min    0.000000e+00  0.000000e+00  0.000000e+00  0.000000e+00   \n",
       "        25%    0.000000e+00  0.000000e+00  0.000000e+00  0.000000e+00   \n",
       "        50%    0.000000e+00  0.000000e+00  0.000000e+00  0.000000e+00   \n",
       "        75%    0.000000e+00  0.000000e+00  0.000000e+00  0.000000e+00   \n",
       "        max    1.000000e+00  1.000000e+00  1.000000e+00  1.000000e+00   \n",
       "1       count  9.754970e+05  9.754970e+05  9.754970e+05  9.754970e+05   \n",
       "        mean   3.415080e-01  5.213179e-01  3.759314e-01  3.918936e-01   \n",
       "        std    4.742157e-01  4.995456e-01  4.843627e-01  4.881734e-01   \n",
       "        min    0.000000e+00  0.000000e+00  0.000000e+00  0.000000e+00   \n",
       "        25%    0.000000e+00  0.000000e+00  0.000000e+00  0.000000e+00   \n",
       "        50%    0.000000e+00  1.000000e+00  0.000000e+00  0.000000e+00   \n",
       "        75%    1.000000e+00  1.000000e+00  1.000000e+00  1.000000e+00   \n",
       "        max    1.000000e+00  1.000000e+00  1.000000e+00  1.000000e+00   \n",
       "\n",
       "                    char_16       char_17      ...           char_8_y  \\\n",
       "outcome                                        ...                      \n",
       "0       count  1.221794e+06  1.221794e+06      ...       1.221794e+06   \n",
       "        mean   1.579530e-01  1.646489e-01      ...       3.173525e+00   \n",
       "        std    3.646971e-01  3.708635e-01      ...       1.449145e+00   \n",
       "        min    0.000000e+00  0.000000e+00      ...       1.000000e+00   \n",
       "        25%    0.000000e+00  0.000000e+00      ...       3.000000e+00   \n",
       "        50%    0.000000e+00  0.000000e+00      ...       3.000000e+00   \n",
       "        75%    0.000000e+00  0.000000e+00      ...       3.000000e+00   \n",
       "        max    1.000000e+00  1.000000e+00      ...       8.000000e+00   \n",
       "1       count  9.754970e+05  9.754970e+05      ...       9.754970e+05   \n",
       "        mean   4.064215e-01  4.238342e-01      ...       2.993560e+00   \n",
       "        std    4.911653e-01  4.941650e-01      ...       1.659583e+00   \n",
       "        min    0.000000e+00  0.000000e+00      ...       1.000000e+00   \n",
       "        25%    0.000000e+00  0.000000e+00      ...       2.000000e+00   \n",
       "        50%    0.000000e+00  0.000000e+00      ...       2.000000e+00   \n",
       "        75%    1.000000e+00  1.000000e+00      ...       3.000000e+00   \n",
       "        max    1.000000e+00  1.000000e+00      ...       8.000000e+00   \n",
       "\n",
       "                   char_9_x      char_9_y         day_x         day_y  \\\n",
       "outcome                                                                 \n",
       "0       count  1.221794e+06  1.221794e+06  1.221794e+06  1.221794e+06   \n",
       "        mean  -9.225947e+02  3.405861e+00  1.712972e+01  1.587625e+01   \n",
       "        std    2.665276e+02  1.700472e+00  8.710963e+00  9.195526e+00   \n",
       "        min   -9.990000e+02  1.000000e+00  1.000000e+00  1.000000e+00   \n",
       "        25%   -9.990000e+02  3.000000e+00  1.000000e+01  8.000000e+00   \n",
       "        50%   -9.990000e+02  3.000000e+00  1.800000e+01  1.600000e+01   \n",
       "        75%   -9.990000e+02  3.000000e+00  2.400000e+01  2.500000e+01   \n",
       "        max    1.900000e+01  9.000000e+00  3.100000e+01  3.100000e+01   \n",
       "1       count  9.754970e+05  9.754970e+05  9.754970e+05  9.754970e+05   \n",
       "        mean  -9.321205e+02  3.564167e+00  1.620506e+01  1.574947e+01   \n",
       "        std    2.506609e+02  2.185201e+00  8.861836e+00  9.234192e+00   \n",
       "        min   -9.990000e+02  1.000000e+00  1.000000e+00  1.000000e+00   \n",
       "        25%   -9.990000e+02  2.000000e+00  9.000000e+00  7.000000e+00   \n",
       "        50%   -9.990000e+02  3.000000e+00  1.600000e+01  1.500000e+01   \n",
       "        75%   -9.990000e+02  4.000000e+00  2.400000e+01  2.500000e+01   \n",
       "        max    1.900000e+01  9.000000e+00  3.100000e+01  3.100000e+01   \n",
       "\n",
       "                    group_1       month_x       month_y        year_x  \\\n",
       "outcome                                                                 \n",
       "0       count  1.221794e+06  1.221794e+06  1.221794e+06  1.221794e+06   \n",
       "        mean   1.823986e+04  7.142654e+00  6.697368e+00  2.022458e+03   \n",
       "        std    7.056647e+03  3.325074e+00  3.513267e+00  4.982662e-01   \n",
       "        min    1.000000e+00  1.000000e+00  1.000000e+00  2.022000e+03   \n",
       "        25%    1.730400e+04  4.000000e+00  3.000000e+00  2.022000e+03   \n",
       "        50%    1.730400e+04  8.000000e+00  7.000000e+00  2.022000e+03   \n",
       "        75%    1.730400e+04  1.000000e+01  1.000000e+01  2.023000e+03   \n",
       "        max    5.146100e+04  1.200000e+01  1.200000e+01  2.023000e+03   \n",
       "1       count  9.754970e+05  9.754970e+05  9.754970e+05  9.754970e+05   \n",
       "        mean   1.365842e+04  6.742545e+00  6.894524e+00  2.022526e+03   \n",
       "        std    1.190185e+04  3.406042e+00  3.327347e+00  4.993203e-01   \n",
       "        min    2.000000e+00  1.000000e+00  1.000000e+00  2.022000e+03   \n",
       "        25%    3.250000e+03  3.000000e+00  4.000000e+00  2.022000e+03   \n",
       "        50%    1.048200e+04  7.000000e+00  7.000000e+00  2.023000e+03   \n",
       "        75%    2.102100e+04  1.000000e+01  1.000000e+01  2.023000e+03   \n",
       "        max    5.146200e+04  1.200000e+01  1.200000e+01  2.023000e+03   \n",
       "\n",
       "                     year_y  \n",
       "outcome                      \n",
       "0       count  1.221794e+06  \n",
       "        mean   2.021778e+03  \n",
       "        std    8.429008e-01  \n",
       "        min    2.020000e+03  \n",
       "        25%    2.021000e+03  \n",
       "        50%    2.022000e+03  \n",
       "        75%    2.022000e+03  \n",
       "        max    2.023000e+03  \n",
       "1       count  9.754970e+05  \n",
       "        mean   2.021818e+03  \n",
       "        std    7.954273e-01  \n",
       "        min    2.020000e+03  \n",
       "        25%    2.021000e+03  \n",
       "        50%    2.022000e+03  \n",
       "        75%    2.022000e+03  \n",
       "        max    2.023000e+03  \n",
       "\n",
       "[16 rows x 56 columns]"
      ]
     },
     "execution_count": 20,
     "metadata": {},
     "output_type": "execute_result"
    }
   ],
   "source": [
    "train.groupby('outcome').describe()"
   ]
  },
  {
   "cell_type": "code",
   "execution_count": 21,
   "metadata": {
    "collapsed": true
   },
   "outputs": [],
   "source": [
    "df = train.groupby('outcome').describe()"
   ]
  },
  {
   "cell_type": "code",
   "execution_count": 22,
   "metadata": {
    "collapsed": true
   },
   "outputs": [],
   "source": [
    "df.to_csv('temp.csv')"
   ]
  },
  {
   "cell_type": "code",
   "execution_count": 23,
   "metadata": {
    "collapsed": true
   },
   "outputs": [],
   "source": [
    "df = pd.read_csv('temp.csv')"
   ]
  },
  {
   "cell_type": "code",
   "execution_count": 26,
   "metadata": {
    "collapsed": false
   },
   "outputs": [],
   "source": [
    "df2 = df[df['Unnamed: 1']=='mean']"
   ]
  },
  {
   "cell_type": "code",
   "execution_count": 27,
   "metadata": {
    "collapsed": false
   },
   "outputs": [
    {
     "data": {
      "text/html": [
       "<div>\n",
       "<table border=\"1\" class=\"dataframe\">\n",
       "  <thead>\n",
       "    <tr style=\"text-align: right;\">\n",
       "      <th></th>\n",
       "      <th>outcome</th>\n",
       "      <th>Unnamed: 1</th>\n",
       "      <th>activity_category</th>\n",
       "      <th>char_10_x</th>\n",
       "      <th>char_10_y</th>\n",
       "      <th>char_11</th>\n",
       "      <th>char_12</th>\n",
       "      <th>char_13</th>\n",
       "      <th>char_14</th>\n",
       "      <th>char_15</th>\n",
       "      <th>...</th>\n",
       "      <th>char_8_y</th>\n",
       "      <th>char_9_x</th>\n",
       "      <th>char_9_y</th>\n",
       "      <th>day_x</th>\n",
       "      <th>day_y</th>\n",
       "      <th>group_1</th>\n",
       "      <th>month_x</th>\n",
       "      <th>month_y</th>\n",
       "      <th>year_x</th>\n",
       "      <th>year_y</th>\n",
       "    </tr>\n",
       "  </thead>\n",
       "  <tbody>\n",
       "    <tr>\n",
       "      <th>1</th>\n",
       "      <td>0</td>\n",
       "      <td>mean</td>\n",
       "      <td>3.000613</td>\n",
       "      <td>362.941195</td>\n",
       "      <td>0.138419</td>\n",
       "      <td>0.124681</td>\n",
       "      <td>0.149603</td>\n",
       "      <td>0.212266</td>\n",
       "      <td>0.158686</td>\n",
       "      <td>0.158280</td>\n",
       "      <td>...</td>\n",
       "      <td>3.173525</td>\n",
       "      <td>-922.594651</td>\n",
       "      <td>3.405861</td>\n",
       "      <td>17.129722</td>\n",
       "      <td>15.876255</td>\n",
       "      <td>18239.857416</td>\n",
       "      <td>7.142654</td>\n",
       "      <td>6.697368</td>\n",
       "      <td>2022.458395</td>\n",
       "      <td>2021.777634</td>\n",
       "    </tr>\n",
       "    <tr>\n",
       "      <th>9</th>\n",
       "      <td>1</td>\n",
       "      <td>mean</td>\n",
       "      <td>2.993449</td>\n",
       "      <td>437.489176</td>\n",
       "      <td>0.370080</td>\n",
       "      <td>0.309027</td>\n",
       "      <td>0.341508</td>\n",
       "      <td>0.521318</td>\n",
       "      <td>0.375931</td>\n",
       "      <td>0.391894</td>\n",
       "      <td>...</td>\n",
       "      <td>2.993560</td>\n",
       "      <td>-932.120516</td>\n",
       "      <td>3.564167</td>\n",
       "      <td>16.205061</td>\n",
       "      <td>15.749472</td>\n",
       "      <td>13658.417823</td>\n",
       "      <td>6.742545</td>\n",
       "      <td>6.894524</td>\n",
       "      <td>2022.526066</td>\n",
       "      <td>2021.818147</td>\n",
       "    </tr>\n",
       "  </tbody>\n",
       "</table>\n",
       "<p>2 rows × 58 columns</p>\n",
       "</div>"
      ],
      "text/plain": [
       "   outcome Unnamed: 1  activity_category   char_10_x  char_10_y   char_11  \\\n",
       "1        0       mean           3.000613  362.941195   0.138419  0.124681   \n",
       "9        1       mean           2.993449  437.489176   0.370080  0.309027   \n",
       "\n",
       "    char_12   char_13   char_14   char_15     ...       char_8_y    char_9_x  \\\n",
       "1  0.149603  0.212266  0.158686  0.158280     ...       3.173525 -922.594651   \n",
       "9  0.341508  0.521318  0.375931  0.391894     ...       2.993560 -932.120516   \n",
       "\n",
       "   char_9_y      day_x      day_y       group_1   month_x   month_y  \\\n",
       "1  3.405861  17.129722  15.876255  18239.857416  7.142654  6.697368   \n",
       "9  3.564167  16.205061  15.749472  13658.417823  6.742545  6.894524   \n",
       "\n",
       "        year_x       year_y  \n",
       "1  2022.458395  2021.777634  \n",
       "9  2022.526066  2021.818147  \n",
       "\n",
       "[2 rows x 58 columns]"
      ]
     },
     "execution_count": 27,
     "metadata": {},
     "output_type": "execute_result"
    }
   ],
   "source": [
    "df2"
   ]
  },
  {
   "cell_type": "code",
   "execution_count": 28,
   "metadata": {
    "collapsed": false
   },
   "outputs": [
    {
     "data": {
      "text/plain": [
       "Index(['outcome', 'Unnamed: 1', 'activity_category', 'char_10_x', 'char_10_y',\n",
       "       'char_11', 'char_12', 'char_13', 'char_14', 'char_15', 'char_16',\n",
       "       'char_17', 'char_18', 'char_19', 'char_1_x', 'char_1_y', 'char_20',\n",
       "       'char_21', 'char_22', 'char_23', 'char_24', 'char_25', 'char_26',\n",
       "       'char_27', 'char_28', 'char_29', 'char_2_x', 'char_2_y', 'char_30',\n",
       "       'char_31', 'char_32', 'char_33', 'char_34', 'char_35', 'char_36',\n",
       "       'char_37', 'char_38', 'char_3_x', 'char_3_y', 'char_4_x', 'char_4_y',\n",
       "       'char_5_x', 'char_5_y', 'char_6_x', 'char_6_y', 'char_7_x', 'char_7_y',\n",
       "       'char_8_x', 'char_8_y', 'char_9_x', 'char_9_y', 'day_x', 'day_y',\n",
       "       'group_1', 'month_x', 'month_y', 'year_x', 'year_y'],\n",
       "      dtype='object')"
      ]
     },
     "execution_count": 28,
     "metadata": {},
     "output_type": "execute_result"
    }
   ],
   "source": [
    "df.columns"
   ]
  },
  {
   "cell_type": "code",
   "execution_count": 29,
   "metadata": {
    "collapsed": true
   },
   "outputs": [],
   "source": [
    "features = ['char_10_x', 'char_10_y',\n",
    "       'char_11', 'char_12', 'char_13', 'char_14', 'char_15', 'char_16',\n",
    "       'char_17', 'char_18', 'char_19', 'char_1_x', 'char_1_y', 'char_20',\n",
    "       'char_21', 'char_22', 'char_23', 'char_24', 'char_25', 'char_26',\n",
    "       'char_27', 'char_28', 'char_29', 'char_2_x', 'char_2_y', 'char_30',\n",
    "       'char_31', 'char_32', 'char_33', 'char_34', 'char_35', 'char_36',\n",
    "       'char_37', 'char_38', 'char_3_x', 'char_3_y', 'char_4_x', 'char_4_y',\n",
    "       'char_5_x', 'char_5_y', 'char_6_x', 'char_6_y', 'char_7_x', 'char_7_y',\n",
    "       'char_8_x', 'char_8_y', 'char_9_x', 'char_9_y', 'day_x', 'day_y',\n",
    "       'group_1', 'month_x', 'month_y', 'year_x', 'year_y']"
   ]
  },
  {
   "cell_type": "code",
   "execution_count": 34,
   "metadata": {
    "collapsed": false
   },
   "outputs": [
    {
     "data": {
      "text/plain": [
       "0.16017757494307552"
      ]
     },
     "execution_count": 34,
     "metadata": {},
     "output_type": "execute_result"
    }
   ],
   "source": [
    "df2.loc[1,'char_19']"
   ]
  },
  {
   "cell_type": "code",
   "execution_count": 43,
   "metadata": {
    "collapsed": false
   },
   "outputs": [
    {
     "name": "stdout",
     "output_type": "stream",
     "text": [
      "char_10_x 1.2053996149\n",
      "char_10_y 2.67361406986\n",
      "char_11 2.47853379318\n",
      "char_12 2.28276210409\n",
      "char_13 2.45596800719\n",
      "char_14 2.36903455169\n",
      "char_15 2.47595837393\n",
      "char_16 2.57305404435\n",
      "char_17 2.57417018861\n",
      "char_18 2.54456412275\n",
      "char_19 2.56115822484\n",
      "char_1_x 1.01034885096\n",
      "char_1_y 0.95187421556\n",
      "char_20 3.00270467889\n",
      "char_21 2.57183925713\n",
      "char_22 2.63782312176\n",
      "char_23 2.40843605057\n",
      "char_24 2.63824599606\n",
      "char_25 2.36913099921\n",
      "char_26 2.17682468909\n",
      "char_27 2.38167731805\n",
      "char_28 2.54089380861\n",
      "char_29 2.38197670168\n",
      "char_2_x 1.01031866845\n",
      "char_2_y 1.20811925273\n",
      "char_30 2.33424461857\n",
      "char_31 2.34773619618\n",
      "char_32 2.57735920573\n",
      "char_33 2.29537268598\n",
      "char_34 2.41195111901\n",
      "char_35 2.39672411958\n",
      "char_36 2.52904163872\n",
      "char_37 2.65919336731\n",
      "char_38 2.74445229637\n",
      "char_3_x 1.01029665018\n",
      "char_3_y 0.771120203267\n",
      "char_4_x 1.01029104989\n",
      "char_4_y 0.838202712699\n",
      "char_5_x 1.01028971122\n",
      "char_5_y 0.925481681831\n",
      "char_6_x 1.01028277227\n",
      "char_6_y 0.781472474136\n",
      "char_7_x 1.01029033043\n",
      "char_7_y 0.840235773267\n",
      "char_8_x 1.0103142568\n",
      "char_8_y 0.943291782571\n",
      "char_9_x 1.01032508157\n",
      "char_9_y 1.04648053356\n",
      "day_x 0.946020083365\n",
      "day_y 0.992014325964\n",
      "group_1 0.748822620223\n",
      "month_x 0.943983065125\n",
      "month_y 1.02943776447\n",
      "year_x 1.00003345998\n",
      "year_y 1.00002003815\n"
     ]
    }
   ],
   "source": [
    "\n",
    "for item in features:\n",
    "    print(item,1/(df2.loc[1,item]/df2.loc[9,item]))\n",
    "    \n"
   ]
  },
  {
   "cell_type": "markdown",
   "metadata": {},
   "source": [
    "#  select columns which has 2.6 or bigger values"
   ]
  },
  {
   "cell_type": "code",
   "execution_count": 44,
   "metadata": {
    "collapsed": true
   },
   "outputs": [],
   "source": [
    "select_feature = ['char_10_y','char_20', 'char_22','char_24','char_37','char_38']"
   ]
  },
  {
   "cell_type": "code",
   "execution_count": 45,
   "metadata": {
    "collapsed": true
   },
   "outputs": [],
   "source": [
    "df_selected_train = train[select_feature]"
   ]
  },
  {
   "cell_type": "code",
   "execution_count": 47,
   "metadata": {
    "collapsed": false
   },
   "outputs": [
    {
     "data": {
      "text/html": [
       "<div>\n",
       "<table border=\"1\" class=\"dataframe\">\n",
       "  <thead>\n",
       "    <tr style=\"text-align: right;\">\n",
       "      <th></th>\n",
       "      <th>char_10_y</th>\n",
       "      <th>char_20</th>\n",
       "      <th>char_22</th>\n",
       "      <th>char_24</th>\n",
       "      <th>char_37</th>\n",
       "      <th>char_38</th>\n",
       "    </tr>\n",
       "  </thead>\n",
       "  <tbody>\n",
       "    <tr>\n",
       "      <th>0</th>\n",
       "      <td>1</td>\n",
       "      <td>0</td>\n",
       "      <td>0</td>\n",
       "      <td>0</td>\n",
       "      <td>0</td>\n",
       "      <td>36</td>\n",
       "    </tr>\n",
       "    <tr>\n",
       "      <th>1</th>\n",
       "      <td>1</td>\n",
       "      <td>0</td>\n",
       "      <td>0</td>\n",
       "      <td>0</td>\n",
       "      <td>0</td>\n",
       "      <td>36</td>\n",
       "    </tr>\n",
       "    <tr>\n",
       "      <th>2</th>\n",
       "      <td>1</td>\n",
       "      <td>0</td>\n",
       "      <td>0</td>\n",
       "      <td>0</td>\n",
       "      <td>0</td>\n",
       "      <td>36</td>\n",
       "    </tr>\n",
       "    <tr>\n",
       "      <th>3</th>\n",
       "      <td>1</td>\n",
       "      <td>0</td>\n",
       "      <td>0</td>\n",
       "      <td>0</td>\n",
       "      <td>0</td>\n",
       "      <td>36</td>\n",
       "    </tr>\n",
       "    <tr>\n",
       "      <th>4</th>\n",
       "      <td>1</td>\n",
       "      <td>0</td>\n",
       "      <td>0</td>\n",
       "      <td>0</td>\n",
       "      <td>0</td>\n",
       "      <td>36</td>\n",
       "    </tr>\n",
       "  </tbody>\n",
       "</table>\n",
       "</div>"
      ],
      "text/plain": [
       "   char_10_y  char_20  char_22  char_24  char_37  char_38\n",
       "0          1        0        0        0        0       36\n",
       "1          1        0        0        0        0       36\n",
       "2          1        0        0        0        0       36\n",
       "3          1        0        0        0        0       36\n",
       "4          1        0        0        0        0       36"
      ]
     },
     "execution_count": 47,
     "metadata": {},
     "output_type": "execute_result"
    }
   ],
   "source": [
    "df_selected_train.head()"
   ]
  },
  {
   "cell_type": "code",
   "execution_count": 53,
   "metadata": {
    "collapsed": true
   },
   "outputs": [],
   "source": [
    "x_train = df_selected_train.values"
   ]
  },
  {
   "cell_type": "code",
   "execution_count": 50,
   "metadata": {
    "collapsed": false
   },
   "outputs": [],
   "source": [
    "y_train = train['outcome']"
   ]
  },
  {
   "cell_type": "code",
   "execution_count": 55,
   "metadata": {
    "collapsed": true
   },
   "outputs": [],
   "source": [
    "x_test = test[select_feature]"
   ]
  },
  {
   "cell_type": "markdown",
   "metadata": {},
   "source": [
    "#  ML with Random Forest"
   ]
  },
  {
   "cell_type": "code",
   "execution_count": 52,
   "metadata": {
    "collapsed": true
   },
   "outputs": [],
   "source": [
    "from sklearn.cross_validation import train_test_split\n",
    "from sklearn.tree import DecisionTreeClassifier\n",
    "from sklearn import metrics\n",
    "\n"
   ]
  },
  {
   "cell_type": "code",
   "execution_count": 54,
   "metadata": {
    "collapsed": false
   },
   "outputs": [
    {
     "data": {
      "text/plain": [
       "0.84307229080158663"
      ]
     },
     "execution_count": 54,
     "metadata": {},
     "output_type": "execute_result"
    }
   ],
   "source": [
    "from sklearn.ensemble import RandomForestClassifier\n",
    "\n",
    "Xtrain, Xtest, ytrain, ytest = train_test_split(x_train,y_train,random_state=0)\n",
    "clf = RandomForestClassifier(n_estimators=100, random_state=0)\n",
    "clf.fit(Xtrain, ytrain)\n",
    "ypred = clf.predict(Xtest)\n",
    "metrics.accuracy_score(ypred, ytest)"
   ]
  },
  {
   "cell_type": "code",
   "execution_count": 56,
   "metadata": {
    "collapsed": true
   },
   "outputs": [],
   "source": [
    "prediction = clf.predict(x_test)"
   ]
  },
  {
   "cell_type": "code",
   "execution_count": 57,
   "metadata": {
    "collapsed": false
   },
   "outputs": [
    {
     "data": {
      "text/plain": [
       "array([1, 1, 1, ..., 0, 0, 0])"
      ]
     },
     "execution_count": 57,
     "metadata": {},
     "output_type": "execute_result"
    }
   ],
   "source": [
    "prediction"
   ]
  },
  {
   "cell_type": "code",
   "execution_count": 63,
   "metadata": {
    "collapsed": false
   },
   "outputs": [
    {
     "data": {
      "text/html": [
       "<div>\n",
       "<table border=\"1\" class=\"dataframe\">\n",
       "  <thead>\n",
       "    <tr style=\"text-align: right;\">\n",
       "      <th></th>\n",
       "      <th>activity_id</th>\n",
       "      <th>outcome</th>\n",
       "    </tr>\n",
       "  </thead>\n",
       "  <tbody>\n",
       "    <tr>\n",
       "      <th>0</th>\n",
       "      <td>act1_1</td>\n",
       "      <td>0</td>\n",
       "    </tr>\n",
       "    <tr>\n",
       "      <th>1</th>\n",
       "      <td>act1_100006</td>\n",
       "      <td>0</td>\n",
       "    </tr>\n",
       "    <tr>\n",
       "      <th>2</th>\n",
       "      <td>act1_100050</td>\n",
       "      <td>0</td>\n",
       "    </tr>\n",
       "    <tr>\n",
       "      <th>3</th>\n",
       "      <td>act1_100065</td>\n",
       "      <td>0</td>\n",
       "    </tr>\n",
       "    <tr>\n",
       "      <th>4</th>\n",
       "      <td>act1_100068</td>\n",
       "      <td>0</td>\n",
       "    </tr>\n",
       "  </tbody>\n",
       "</table>\n",
       "</div>"
      ],
      "text/plain": [
       "   activity_id  outcome\n",
       "0       act1_1        0\n",
       "1  act1_100006        0\n",
       "2  act1_100050        0\n",
       "3  act1_100065        0\n",
       "4  act1_100068        0"
      ]
     },
     "execution_count": 63,
     "metadata": {},
     "output_type": "execute_result"
    }
   ],
   "source": [
    "df_sample_submission.head()"
   ]
  },
  {
   "cell_type": "code",
   "execution_count": 59,
   "metadata": {
    "collapsed": false
   },
   "outputs": [
    {
     "data": {
      "text/html": [
       "<div>\n",
       "<table border=\"1\" class=\"dataframe\">\n",
       "  <thead>\n",
       "    <tr style=\"text-align: right;\">\n",
       "      <th></th>\n",
       "      <th>people_id</th>\n",
       "      <th>activity_id</th>\n",
       "      <th>activity_category</th>\n",
       "      <th>char_1_x</th>\n",
       "      <th>char_2_x</th>\n",
       "      <th>char_3_x</th>\n",
       "      <th>char_4_x</th>\n",
       "      <th>char_5_x</th>\n",
       "      <th>char_6_x</th>\n",
       "      <th>char_7_x</th>\n",
       "      <th>...</th>\n",
       "      <th>char_32</th>\n",
       "      <th>char_33</th>\n",
       "      <th>char_34</th>\n",
       "      <th>char_35</th>\n",
       "      <th>char_36</th>\n",
       "      <th>char_37</th>\n",
       "      <th>char_38</th>\n",
       "      <th>year_y</th>\n",
       "      <th>month_y</th>\n",
       "      <th>day_y</th>\n",
       "    </tr>\n",
       "  </thead>\n",
       "  <tbody>\n",
       "    <tr>\n",
       "      <th>0</th>\n",
       "      <td>ppl_100004</td>\n",
       "      <td>act1_249281</td>\n",
       "      <td>1</td>\n",
       "      <td>5</td>\n",
       "      <td>10</td>\n",
       "      <td>5</td>\n",
       "      <td>1</td>\n",
       "      <td>6</td>\n",
       "      <td>1</td>\n",
       "      <td>1</td>\n",
       "      <td>...</td>\n",
       "      <td>1</td>\n",
       "      <td>1</td>\n",
       "      <td>1</td>\n",
       "      <td>1</td>\n",
       "      <td>1</td>\n",
       "      <td>1</td>\n",
       "      <td>76</td>\n",
       "      <td>2022</td>\n",
       "      <td>7</td>\n",
       "      <td>20</td>\n",
       "    </tr>\n",
       "    <tr>\n",
       "      <th>1</th>\n",
       "      <td>ppl_100004</td>\n",
       "      <td>act2_230855</td>\n",
       "      <td>5</td>\n",
       "      <td>-999</td>\n",
       "      <td>-999</td>\n",
       "      <td>-999</td>\n",
       "      <td>-999</td>\n",
       "      <td>-999</td>\n",
       "      <td>-999</td>\n",
       "      <td>-999</td>\n",
       "      <td>...</td>\n",
       "      <td>1</td>\n",
       "      <td>1</td>\n",
       "      <td>1</td>\n",
       "      <td>1</td>\n",
       "      <td>1</td>\n",
       "      <td>1</td>\n",
       "      <td>76</td>\n",
       "      <td>2022</td>\n",
       "      <td>7</td>\n",
       "      <td>20</td>\n",
       "    </tr>\n",
       "    <tr>\n",
       "      <th>2</th>\n",
       "      <td>ppl_10001</td>\n",
       "      <td>act1_240724</td>\n",
       "      <td>1</td>\n",
       "      <td>12</td>\n",
       "      <td>1</td>\n",
       "      <td>5</td>\n",
       "      <td>4</td>\n",
       "      <td>6</td>\n",
       "      <td>1</td>\n",
       "      <td>1</td>\n",
       "      <td>...</td>\n",
       "      <td>1</td>\n",
       "      <td>1</td>\n",
       "      <td>1</td>\n",
       "      <td>1</td>\n",
       "      <td>1</td>\n",
       "      <td>1</td>\n",
       "      <td>90</td>\n",
       "      <td>2022</td>\n",
       "      <td>10</td>\n",
       "      <td>14</td>\n",
       "    </tr>\n",
       "    <tr>\n",
       "      <th>3</th>\n",
       "      <td>ppl_10001</td>\n",
       "      <td>act1_83552</td>\n",
       "      <td>1</td>\n",
       "      <td>20</td>\n",
       "      <td>10</td>\n",
       "      <td>5</td>\n",
       "      <td>4</td>\n",
       "      <td>6</td>\n",
       "      <td>1</td>\n",
       "      <td>1</td>\n",
       "      <td>...</td>\n",
       "      <td>1</td>\n",
       "      <td>1</td>\n",
       "      <td>1</td>\n",
       "      <td>1</td>\n",
       "      <td>1</td>\n",
       "      <td>1</td>\n",
       "      <td>90</td>\n",
       "      <td>2022</td>\n",
       "      <td>10</td>\n",
       "      <td>14</td>\n",
       "    </tr>\n",
       "    <tr>\n",
       "      <th>4</th>\n",
       "      <td>ppl_10001</td>\n",
       "      <td>act2_1043301</td>\n",
       "      <td>5</td>\n",
       "      <td>-999</td>\n",
       "      <td>-999</td>\n",
       "      <td>-999</td>\n",
       "      <td>-999</td>\n",
       "      <td>-999</td>\n",
       "      <td>-999</td>\n",
       "      <td>-999</td>\n",
       "      <td>...</td>\n",
       "      <td>1</td>\n",
       "      <td>1</td>\n",
       "      <td>1</td>\n",
       "      <td>1</td>\n",
       "      <td>1</td>\n",
       "      <td>1</td>\n",
       "      <td>90</td>\n",
       "      <td>2022</td>\n",
       "      <td>10</td>\n",
       "      <td>14</td>\n",
       "    </tr>\n",
       "  </tbody>\n",
       "</table>\n",
       "<p>5 rows × 58 columns</p>\n",
       "</div>"
      ],
      "text/plain": [
       "    people_id   activity_id  activity_category  char_1_x  char_2_x  char_3_x  \\\n",
       "0  ppl_100004   act1_249281                  1         5        10         5   \n",
       "1  ppl_100004   act2_230855                  5      -999      -999      -999   \n",
       "2   ppl_10001   act1_240724                  1        12         1         5   \n",
       "3   ppl_10001    act1_83552                  1        20        10         5   \n",
       "4   ppl_10001  act2_1043301                  5      -999      -999      -999   \n",
       "\n",
       "   char_4_x  char_5_x  char_6_x  char_7_x  ...    char_32  char_33  char_34  \\\n",
       "0         1         6         1         1  ...          1        1        1   \n",
       "1      -999      -999      -999      -999  ...          1        1        1   \n",
       "2         4         6         1         1  ...          1        1        1   \n",
       "3         4         6         1         1  ...          1        1        1   \n",
       "4      -999      -999      -999      -999  ...          1        1        1   \n",
       "\n",
       "   char_35  char_36  char_37  char_38  year_y  month_y  day_y  \n",
       "0        1        1        1       76    2022        7     20  \n",
       "1        1        1        1       76    2022        7     20  \n",
       "2        1        1        1       90    2022       10     14  \n",
       "3        1        1        1       90    2022       10     14  \n",
       "4        1        1        1       90    2022       10     14  \n",
       "\n",
       "[5 rows x 58 columns]"
      ]
     },
     "execution_count": 59,
     "metadata": {},
     "output_type": "execute_result"
    }
   ],
   "source": [
    "test.head()"
   ]
  },
  {
   "cell_type": "code",
   "execution_count": 64,
   "metadata": {
    "collapsed": true
   },
   "outputs": [],
   "source": [
    "df_sample_submission['activity_id']=test['activity_id']"
   ]
  },
  {
   "cell_type": "code",
   "execution_count": 65,
   "metadata": {
    "collapsed": false
   },
   "outputs": [
    {
     "data": {
      "text/html": [
       "<div>\n",
       "<table border=\"1\" class=\"dataframe\">\n",
       "  <thead>\n",
       "    <tr style=\"text-align: right;\">\n",
       "      <th></th>\n",
       "      <th>activity_id</th>\n",
       "      <th>outcome</th>\n",
       "    </tr>\n",
       "  </thead>\n",
       "  <tbody>\n",
       "    <tr>\n",
       "      <th>0</th>\n",
       "      <td>act1_249281</td>\n",
       "      <td>0</td>\n",
       "    </tr>\n",
       "    <tr>\n",
       "      <th>1</th>\n",
       "      <td>act2_230855</td>\n",
       "      <td>0</td>\n",
       "    </tr>\n",
       "    <tr>\n",
       "      <th>2</th>\n",
       "      <td>act1_240724</td>\n",
       "      <td>0</td>\n",
       "    </tr>\n",
       "    <tr>\n",
       "      <th>3</th>\n",
       "      <td>act1_83552</td>\n",
       "      <td>0</td>\n",
       "    </tr>\n",
       "    <tr>\n",
       "      <th>4</th>\n",
       "      <td>act2_1043301</td>\n",
       "      <td>0</td>\n",
       "    </tr>\n",
       "  </tbody>\n",
       "</table>\n",
       "</div>"
      ],
      "text/plain": [
       "    activity_id  outcome\n",
       "0   act1_249281        0\n",
       "1   act2_230855        0\n",
       "2   act1_240724        0\n",
       "3    act1_83552        0\n",
       "4  act2_1043301        0"
      ]
     },
     "execution_count": 65,
     "metadata": {},
     "output_type": "execute_result"
    }
   ],
   "source": [
    "df_sample_submission.head()"
   ]
  },
  {
   "cell_type": "code",
   "execution_count": 66,
   "metadata": {
    "collapsed": true
   },
   "outputs": [],
   "source": [
    "df_sample_submission['outcome']=prediction"
   ]
  },
  {
   "cell_type": "code",
   "execution_count": 67,
   "metadata": {
    "collapsed": false
   },
   "outputs": [
    {
     "data": {
      "text/html": [
       "<div>\n",
       "<table border=\"1\" class=\"dataframe\">\n",
       "  <thead>\n",
       "    <tr style=\"text-align: right;\">\n",
       "      <th></th>\n",
       "      <th>activity_id</th>\n",
       "      <th>outcome</th>\n",
       "    </tr>\n",
       "  </thead>\n",
       "  <tbody>\n",
       "    <tr>\n",
       "      <th>0</th>\n",
       "      <td>act1_249281</td>\n",
       "      <td>1</td>\n",
       "    </tr>\n",
       "    <tr>\n",
       "      <th>1</th>\n",
       "      <td>act2_230855</td>\n",
       "      <td>1</td>\n",
       "    </tr>\n",
       "    <tr>\n",
       "      <th>2</th>\n",
       "      <td>act1_240724</td>\n",
       "      <td>1</td>\n",
       "    </tr>\n",
       "    <tr>\n",
       "      <th>3</th>\n",
       "      <td>act1_83552</td>\n",
       "      <td>1</td>\n",
       "    </tr>\n",
       "    <tr>\n",
       "      <th>4</th>\n",
       "      <td>act2_1043301</td>\n",
       "      <td>1</td>\n",
       "    </tr>\n",
       "  </tbody>\n",
       "</table>\n",
       "</div>"
      ],
      "text/plain": [
       "    activity_id  outcome\n",
       "0   act1_249281        1\n",
       "1   act2_230855        1\n",
       "2   act1_240724        1\n",
       "3    act1_83552        1\n",
       "4  act2_1043301        1"
      ]
     },
     "execution_count": 67,
     "metadata": {},
     "output_type": "execute_result"
    }
   ],
   "source": [
    "df_sample_submission.head()"
   ]
  },
  {
   "cell_type": "code",
   "execution_count": 68,
   "metadata": {
    "collapsed": true
   },
   "outputs": [],
   "source": [
    "df_sample_submission.to_csv('09-10-16_randomForest_1.csv', index = False)"
   ]
  },
  {
   "cell_type": "code",
   "execution_count": null,
   "metadata": {
    "collapsed": true
   },
   "outputs": [],
   "source": []
  },
  {
   "cell_type": "code",
   "execution_count": null,
   "metadata": {
    "collapsed": true
   },
   "outputs": [],
   "source": []
  },
  {
   "cell_type": "markdown",
   "metadata": {},
   "source": [
    "#  ML with gradient boost"
   ]
  },
  {
   "cell_type": "code",
   "execution_count": null,
   "metadata": {
    "collapsed": true
   },
   "outputs": [],
   "source": [
    "from sklearn.ensemble import GradientBoostingClassifier\n",
    "Xtrain, Xtest, ytrain, ytest = train_test_split(x_train,y_train, random_state=0)\n",
    "gbt = GradientBoostingClassifier(max_depth=10, n_estimators=50)\n",
    "gbt.fit(Xtrain, ytrain)\n",
    "ypred = gbt.predict(Xtest)\n",
    "metrics.accuracy_score(ypred, ytest)"
   ]
  },
  {
   "cell_type": "code",
   "execution_count": null,
   "metadata": {
    "collapsed": true
   },
   "outputs": [],
   "source": []
  },
  {
   "cell_type": "code",
   "execution_count": null,
   "metadata": {
    "collapsed": true
   },
   "outputs": [],
   "source": []
  },
  {
   "cell_type": "code",
   "execution_count": null,
   "metadata": {
    "collapsed": true
   },
   "outputs": [],
   "source": []
  },
  {
   "cell_type": "markdown",
   "metadata": {},
   "source": [
    "#  XGBoost"
   ]
  },
  {
   "cell_type": "code",
   "execution_count": 70,
   "metadata": {
    "collapsed": true
   },
   "outputs": [],
   "source": [
    "import datetime\n",
    "import pandas as pd\n",
    "import numpy as np\n",
    "from sklearn.cross_validation import KFold\n",
    "from sklearn.cross_validation import train_test_split\n",
    "from sklearn.metrics import roc_auc_score\n",
    "import xgboost as xgb\n",
    "import random\n",
    "from operator import itemgetter\n",
    "import time\n",
    "import copy\n",
    "\n",
    "random.seed(2)\n",
    "\n"
   ]
  },
  {
   "cell_type": "code",
   "execution_count": 71,
   "metadata": {
    "collapsed": true
   },
   "outputs": [],
   "source": [
    "random_state = 0"
   ]
  },
  {
   "cell_type": "code",
   "execution_count": 72,
   "metadata": {
    "collapsed": true
   },
   "outputs": [],
   "source": [
    "def get_importance(gbm, features):\n",
    "    create_feature_map(features)\n",
    "    importance = gbm.get_fscore(fmap='xgb.fmap')\n",
    "    importance = sorted(importance.items(), key=itemgetter(1), reverse=True)\n",
    "    return importance\n",
    "\n",
    "\n",
    "def create_feature_map(features):\n",
    "    outfile = open('xgb.fmap', 'w')\n",
    "    for i, feat in enumerate(features):\n",
    "        outfile.write('{0}\\t{1}\\tq\\n'.format(i, feat))\n",
    "    outfile.close()\n",
    "\n",
    "def intersect(a, b):\n",
    "    return list(set(a) & set(b))\n",
    "\n"
   ]
  },
  {
   "cell_type": "code",
   "execution_count": 73,
   "metadata": {
    "collapsed": false
   },
   "outputs": [
    {
     "name": "stdout",
     "output_type": "stream",
     "text": [
      "XGBoost params. ETA: 0.1, MAX_DEPTH: 6, SUBSAMPLE: 0.8, COLSAMPLE_BY_TREE: 0.8\n"
     ]
    }
   ],
   "source": [
    "eta = 0.1\n",
    "max_depth = 6\n",
    "subsample = 0.8\n",
    "colsample_bytree = 0.8\n",
    "start_time = time.time()\n",
    "\n",
    "print('XGBoost params. ETA: {}, MAX_DEPTH: {}, SUBSAMPLE: {}, COLSAMPLE_BY_TREE: {}'.format(eta, max_depth, subsample, colsample_bytree))\n",
    "params = {\n",
    "        \"objective\": \"binary:logistic\",\n",
    "        \"booster\" : \"gbtree\",\n",
    "        \"eval_metric\": \"auc\",\n",
    "        \"eta\": eta,\n",
    "        \"tree_method\": 'exact',\n",
    "        \"max_depth\": max_depth,\n",
    "        \"subsample\": subsample,\n",
    "        \"colsample_bytree\": colsample_bytree,\n",
    "        \"silent\": 1,\n",
    "        \"seed\": 0\n",
    "}\n",
    "\n",
    "early_stopping_rounds = 10\n",
    "test_size = 0.1\n",
    "\n",
    "\n"
   ]
  },
  {
   "cell_type": "code",
   "execution_count": 74,
   "metadata": {
    "collapsed": true
   },
   "outputs": [],
   "source": [
    "num_boost_round = 100"
   ]
  },
  {
   "cell_type": "code",
   "execution_count": 75,
   "metadata": {
    "collapsed": true
   },
   "outputs": [],
   "source": [
    "features =  ['char_10_y','char_20', 'char_22','char_24','char_37','char_38']"
   ]
  },
  {
   "cell_type": "code",
   "execution_count": 80,
   "metadata": {
    "collapsed": true
   },
   "outputs": [],
   "source": [
    "features = ['char_10_x', 'char_10_y',\n",
    "       'char_11', 'char_12', 'char_13', 'char_14', 'char_15', 'char_16',\n",
    "       'char_17', 'char_18', 'char_19', 'char_1_x', 'char_1_y', 'char_20',\n",
    "       'char_21', 'char_22', 'char_23', 'char_24', 'char_25', 'char_26',\n",
    "       'char_27', 'char_28', 'char_29', 'char_2_x', 'char_2_y', 'char_30',\n",
    "       'char_31', 'char_32', 'char_33', 'char_34', 'char_35', 'char_36',\n",
    "       'char_37', 'char_38', 'char_3_x', 'char_3_y', 'char_4_x', 'char_4_y',\n",
    "       'char_5_x', 'char_5_y', 'char_6_x', 'char_6_y', 'char_7_x', 'char_7_y',\n",
    "       'char_8_x', 'char_8_y', 'char_9_x', 'char_9_y', 'day_x', 'day_y',\n",
    "       'group_1', 'month_x', 'month_y', 'year_x', 'year_y']"
   ]
  },
  {
   "cell_type": "code",
   "execution_count": 81,
   "metadata": {
    "collapsed": true
   },
   "outputs": [],
   "source": [
    "num_boost_round = 200"
   ]
  },
  {
   "cell_type": "code",
   "execution_count": 82,
   "metadata": {
    "collapsed": false
   },
   "outputs": [
    {
     "name": "stdout",
     "output_type": "stream",
     "text": [
      "Length train: 1977561\n",
      "Length valid: 219730\n",
      "Will train until eval error hasn't decreased in 10 rounds.\n",
      "[0]\ttrain-auc:0.914236\teval-auc:0.914012\n",
      "[1]\ttrain-auc:0.927364\teval-auc:0.927040\n",
      "[2]\ttrain-auc:0.930530\teval-auc:0.930100\n",
      "[3]\ttrain-auc:0.931309\teval-auc:0.930681\n",
      "[4]\ttrain-auc:0.932235\teval-auc:0.931749\n",
      "[5]\ttrain-auc:0.932460\teval-auc:0.932110\n",
      "[6]\ttrain-auc:0.932487\teval-auc:0.932251\n",
      "[7]\ttrain-auc:0.933023\teval-auc:0.932803\n",
      "[8]\ttrain-auc:0.934069\teval-auc:0.933789\n",
      "[9]\ttrain-auc:0.934331\teval-auc:0.934048\n",
      "[10]\ttrain-auc:0.934775\teval-auc:0.934528\n",
      "[11]\ttrain-auc:0.935324\teval-auc:0.935095\n",
      "[12]\ttrain-auc:0.936180\teval-auc:0.935939\n",
      "[13]\ttrain-auc:0.936846\teval-auc:0.936623\n",
      "[14]\ttrain-auc:0.936939\teval-auc:0.936750\n",
      "[15]\ttrain-auc:0.937149\teval-auc:0.936916\n",
      "[16]\ttrain-auc:0.937302\teval-auc:0.937039\n",
      "[17]\ttrain-auc:0.938080\teval-auc:0.937837\n",
      "[18]\ttrain-auc:0.938563\teval-auc:0.938319\n",
      "[19]\ttrain-auc:0.939736\teval-auc:0.939436\n",
      "[20]\ttrain-auc:0.939860\teval-auc:0.939586\n",
      "[21]\ttrain-auc:0.940015\teval-auc:0.939747\n",
      "[22]\ttrain-auc:0.940632\teval-auc:0.940336\n",
      "[23]\ttrain-auc:0.940800\teval-auc:0.940500\n",
      "[24]\ttrain-auc:0.941322\teval-auc:0.941025\n",
      "[25]\ttrain-auc:0.941520\teval-auc:0.941223\n",
      "[26]\ttrain-auc:0.941991\teval-auc:0.941646\n",
      "[27]\ttrain-auc:0.942207\teval-auc:0.941878\n",
      "[28]\ttrain-auc:0.942570\teval-auc:0.942239\n",
      "[29]\ttrain-auc:0.942981\teval-auc:0.942637\n",
      "[30]\ttrain-auc:0.943112\teval-auc:0.942766\n",
      "[31]\ttrain-auc:0.943331\teval-auc:0.943015\n",
      "[32]\ttrain-auc:0.943568\teval-auc:0.943234\n",
      "[33]\ttrain-auc:0.943751\teval-auc:0.943416\n",
      "[34]\ttrain-auc:0.944206\teval-auc:0.943868\n",
      "[35]\ttrain-auc:0.944460\teval-auc:0.944105\n",
      "[36]\ttrain-auc:0.944882\teval-auc:0.944574\n",
      "[37]\ttrain-auc:0.945176\teval-auc:0.944867\n",
      "[38]\ttrain-auc:0.945259\teval-auc:0.944950\n",
      "[39]\ttrain-auc:0.945487\teval-auc:0.945174\n",
      "[40]\ttrain-auc:0.945599\teval-auc:0.945279\n",
      "[41]\ttrain-auc:0.945863\teval-auc:0.945541\n",
      "[42]\ttrain-auc:0.945880\teval-auc:0.945562\n",
      "[43]\ttrain-auc:0.946234\teval-auc:0.945945\n",
      "[44]\ttrain-auc:0.946561\teval-auc:0.946279\n",
      "[45]\ttrain-auc:0.946827\teval-auc:0.946549\n",
      "[46]\ttrain-auc:0.947134\teval-auc:0.946854\n",
      "[47]\ttrain-auc:0.947405\teval-auc:0.947142\n",
      "[48]\ttrain-auc:0.947723\teval-auc:0.947480\n",
      "[49]\ttrain-auc:0.948161\teval-auc:0.947929\n",
      "[50]\ttrain-auc:0.948492\teval-auc:0.948273\n",
      "[51]\ttrain-auc:0.948816\teval-auc:0.948597\n",
      "[52]\ttrain-auc:0.949011\teval-auc:0.948794\n",
      "[53]\ttrain-auc:0.949554\teval-auc:0.949300\n",
      "[54]\ttrain-auc:0.949701\teval-auc:0.949470\n",
      "[55]\ttrain-auc:0.949869\teval-auc:0.949637\n",
      "[56]\ttrain-auc:0.949957\teval-auc:0.949727\n",
      "[57]\ttrain-auc:0.950059\teval-auc:0.949858\n",
      "[58]\ttrain-auc:0.950544\teval-auc:0.950332\n",
      "[59]\ttrain-auc:0.950931\teval-auc:0.950719\n",
      "[60]\ttrain-auc:0.951192\teval-auc:0.950983\n",
      "[61]\ttrain-auc:0.951341\teval-auc:0.951127\n",
      "[62]\ttrain-auc:0.951688\teval-auc:0.951455\n",
      "[63]\ttrain-auc:0.951703\teval-auc:0.951491\n",
      "[64]\ttrain-auc:0.951876\teval-auc:0.951660\n",
      "[65]\ttrain-auc:0.951910\teval-auc:0.951694\n",
      "[66]\ttrain-auc:0.952164\teval-auc:0.951930\n",
      "[67]\ttrain-auc:0.952274\teval-auc:0.952048\n",
      "[68]\ttrain-auc:0.952379\teval-auc:0.952155\n",
      "[69]\ttrain-auc:0.952478\teval-auc:0.952265\n",
      "[70]\ttrain-auc:0.952761\teval-auc:0.952529\n",
      "[71]\ttrain-auc:0.952780\teval-auc:0.952556\n",
      "[72]\ttrain-auc:0.952952\teval-auc:0.952722\n",
      "[73]\ttrain-auc:0.953315\teval-auc:0.953085\n",
      "[74]\ttrain-auc:0.953876\teval-auc:0.953636\n",
      "[75]\ttrain-auc:0.954040\teval-auc:0.953813\n",
      "[76]\ttrain-auc:0.954587\teval-auc:0.954364\n",
      "[77]\ttrain-auc:0.954778\teval-auc:0.954564\n",
      "[78]\ttrain-auc:0.954953\teval-auc:0.954726\n",
      "[79]\ttrain-auc:0.954960\teval-auc:0.954739\n",
      "[80]\ttrain-auc:0.955218\teval-auc:0.954989\n",
      "[81]\ttrain-auc:0.955287\teval-auc:0.955057\n",
      "[82]\ttrain-auc:0.955673\teval-auc:0.955405\n",
      "[83]\ttrain-auc:0.955817\teval-auc:0.955554\n",
      "[84]\ttrain-auc:0.956091\teval-auc:0.955820\n",
      "[85]\ttrain-auc:0.956305\teval-auc:0.956048\n",
      "[86]\ttrain-auc:0.956639\teval-auc:0.956390\n",
      "[87]\ttrain-auc:0.956737\teval-auc:0.956488\n",
      "[88]\ttrain-auc:0.956761\teval-auc:0.956520\n",
      "[89]\ttrain-auc:0.956925\teval-auc:0.956690\n",
      "[90]\ttrain-auc:0.957017\teval-auc:0.956785\n",
      "[91]\ttrain-auc:0.957169\teval-auc:0.956939\n",
      "[92]\ttrain-auc:0.957557\teval-auc:0.957323\n",
      "[93]\ttrain-auc:0.957743\teval-auc:0.957514\n",
      "[94]\ttrain-auc:0.957786\teval-auc:0.957555\n",
      "[95]\ttrain-auc:0.958067\teval-auc:0.957831\n",
      "[96]\ttrain-auc:0.958229\teval-auc:0.957993\n",
      "[97]\ttrain-auc:0.958416\teval-auc:0.958171\n",
      "[98]\ttrain-auc:0.958755\teval-auc:0.958484\n",
      "[99]\ttrain-auc:0.958775\teval-auc:0.958506\n",
      "[100]\ttrain-auc:0.958931\teval-auc:0.958671\n",
      "[101]\ttrain-auc:0.959181\teval-auc:0.958921\n",
      "[102]\ttrain-auc:0.959425\teval-auc:0.959177\n",
      "[103]\ttrain-auc:0.959773\teval-auc:0.959522\n",
      "[104]\ttrain-auc:0.959800\teval-auc:0.959549\n",
      "[105]\ttrain-auc:0.960024\teval-auc:0.959748\n",
      "[106]\ttrain-auc:0.960164\teval-auc:0.959884\n",
      "[107]\ttrain-auc:0.960248\teval-auc:0.959949\n",
      "[108]\ttrain-auc:0.960571\teval-auc:0.960237\n",
      "[109]\ttrain-auc:0.960805\teval-auc:0.960492\n",
      "[110]\ttrain-auc:0.960898\teval-auc:0.960576\n",
      "[111]\ttrain-auc:0.961002\teval-auc:0.960671\n",
      "[112]\ttrain-auc:0.961192\teval-auc:0.960839\n",
      "[113]\ttrain-auc:0.961249\teval-auc:0.960900\n",
      "[114]\ttrain-auc:0.961374\teval-auc:0.961025\n",
      "[115]\ttrain-auc:0.961605\teval-auc:0.961255\n",
      "[116]\ttrain-auc:0.961700\teval-auc:0.961344\n",
      "[117]\ttrain-auc:0.961937\teval-auc:0.961586\n",
      "[118]\ttrain-auc:0.962062\teval-auc:0.961702\n",
      "[119]\ttrain-auc:0.962071\teval-auc:0.961714\n",
      "[120]\ttrain-auc:0.962239\teval-auc:0.961868\n",
      "[121]\ttrain-auc:0.962369\teval-auc:0.961996\n",
      "[122]\ttrain-auc:0.962505\teval-auc:0.962125\n",
      "[123]\ttrain-auc:0.962546\teval-auc:0.962162\n",
      "[124]\ttrain-auc:0.962658\teval-auc:0.962261\n",
      "[125]\ttrain-auc:0.962837\teval-auc:0.962445\n",
      "[126]\ttrain-auc:0.963072\teval-auc:0.962677\n",
      "[127]\ttrain-auc:0.963292\teval-auc:0.962904\n",
      "[128]\ttrain-auc:0.963332\teval-auc:0.962936\n",
      "[129]\ttrain-auc:0.963655\teval-auc:0.963243\n",
      "[130]\ttrain-auc:0.963832\teval-auc:0.963409\n",
      "[131]\ttrain-auc:0.963950\teval-auc:0.963528\n",
      "[132]\ttrain-auc:0.964008\teval-auc:0.963581\n",
      "[133]\ttrain-auc:0.964098\teval-auc:0.963670\n",
      "[134]\ttrain-auc:0.964170\teval-auc:0.963735\n",
      "[135]\ttrain-auc:0.964177\teval-auc:0.963742\n",
      "[136]\ttrain-auc:0.964235\teval-auc:0.963799\n",
      "[137]\ttrain-auc:0.964410\teval-auc:0.963971\n",
      "[138]\ttrain-auc:0.964470\teval-auc:0.964024\n",
      "[139]\ttrain-auc:0.964690\teval-auc:0.964224\n",
      "[140]\ttrain-auc:0.964856\teval-auc:0.964386\n",
      "[141]\ttrain-auc:0.965104\teval-auc:0.964625\n",
      "[142]\ttrain-auc:0.965293\teval-auc:0.964817\n",
      "[143]\ttrain-auc:0.965497\teval-auc:0.965025\n",
      "[144]\ttrain-auc:0.965705\teval-auc:0.965222\n",
      "[145]\ttrain-auc:0.965874\teval-auc:0.965389\n",
      "[146]\ttrain-auc:0.966009\teval-auc:0.965521\n",
      "[147]\ttrain-auc:0.966060\teval-auc:0.965566\n",
      "[148]\ttrain-auc:0.966185\teval-auc:0.965690\n",
      "[149]\ttrain-auc:0.966467\teval-auc:0.965999\n",
      "[150]\ttrain-auc:0.966576\teval-auc:0.966104\n",
      "[151]\ttrain-auc:0.966675\teval-auc:0.966217\n",
      "[152]\ttrain-auc:0.966805\teval-auc:0.966333\n",
      "[153]\ttrain-auc:0.966904\teval-auc:0.966428\n",
      "[154]\ttrain-auc:0.966953\teval-auc:0.966472\n",
      "[155]\ttrain-auc:0.967237\teval-auc:0.966763\n",
      "[156]\ttrain-auc:0.967401\teval-auc:0.966927\n",
      "[157]\ttrain-auc:0.967499\teval-auc:0.967014\n",
      "[158]\ttrain-auc:0.967592\teval-auc:0.967110\n",
      "[159]\ttrain-auc:0.967606\teval-auc:0.967123\n",
      "[160]\ttrain-auc:0.967671\teval-auc:0.967190\n",
      "[161]\ttrain-auc:0.967752\teval-auc:0.967267\n",
      "[162]\ttrain-auc:0.967849\teval-auc:0.967363\n",
      "[163]\ttrain-auc:0.968055\teval-auc:0.967585\n",
      "[164]\ttrain-auc:0.968075\teval-auc:0.967606\n",
      "[165]\ttrain-auc:0.968148\teval-auc:0.967676\n",
      "[166]\ttrain-auc:0.968183\teval-auc:0.967710\n",
      "[167]\ttrain-auc:0.968237\teval-auc:0.967757\n",
      "[168]\ttrain-auc:0.968407\teval-auc:0.967937\n",
      "[169]\ttrain-auc:0.968534\teval-auc:0.968049\n",
      "[170]\ttrain-auc:0.968743\teval-auc:0.968252\n",
      "[171]\ttrain-auc:0.968877\teval-auc:0.968396\n",
      "[172]\ttrain-auc:0.968900\teval-auc:0.968412\n",
      "[173]\ttrain-auc:0.969087\teval-auc:0.968605\n",
      "[174]\ttrain-auc:0.969266\teval-auc:0.968783\n",
      "[175]\ttrain-auc:0.969324\teval-auc:0.968848\n",
      "[176]\ttrain-auc:0.969456\teval-auc:0.968978\n",
      "[177]\ttrain-auc:0.969524\teval-auc:0.969040\n",
      "[178]\ttrain-auc:0.969626\teval-auc:0.969124\n",
      "[179]\ttrain-auc:0.969739\teval-auc:0.969242\n",
      "[180]\ttrain-auc:0.969780\teval-auc:0.969287\n",
      "[181]\ttrain-auc:0.969941\teval-auc:0.969435\n",
      "[182]\ttrain-auc:0.969967\teval-auc:0.969462\n",
      "[183]\ttrain-auc:0.970066\teval-auc:0.969559\n",
      "[184]\ttrain-auc:0.970179\teval-auc:0.969669\n",
      "[185]\ttrain-auc:0.970310\teval-auc:0.969796\n",
      "[186]\ttrain-auc:0.970348\teval-auc:0.969834\n",
      "[187]\ttrain-auc:0.970483\teval-auc:0.969961\n",
      "[188]\ttrain-auc:0.970574\teval-auc:0.970048\n",
      "[189]\ttrain-auc:0.970711\teval-auc:0.970189\n",
      "[190]\ttrain-auc:0.970736\teval-auc:0.970216\n",
      "[191]\ttrain-auc:0.970835\teval-auc:0.970315\n",
      "[192]\ttrain-auc:0.970927\teval-auc:0.970404\n",
      "[193]\ttrain-auc:0.971062\teval-auc:0.970539\n",
      "[194]\ttrain-auc:0.971146\teval-auc:0.970621\n",
      "[195]\ttrain-auc:0.971260\teval-auc:0.970731\n",
      "[196]\ttrain-auc:0.971321\teval-auc:0.970786\n",
      "[197]\ttrain-auc:0.971349\teval-auc:0.970814\n",
      "[198]\ttrain-auc:0.971549\teval-auc:0.971008\n",
      "[199]\ttrain-auc:0.971609\teval-auc:0.971055\n",
      "Validating...\n",
      "Check error value: 0.971055\n",
      "Importance array:  [('group_1', 2502), ('char_7_y', 1070), ('char_38', 1061), ('day_y', 585), ('char_6_y', 499), ('char_9_y', 409), ('char_3_y', 374), ('char_8_y', 367), ('month_y', 367), ('char_4_y', 305), ('month_x', 267), ('char_10_x', 249), ('year_x', 193), ('char_5_y', 185), ('year_y', 177), ('char_25', 128), ('day_x', 112), ('char_10_y', 111), ('char_2_y', 100), ('char_11', 94), ('char_1_y', 89), ('char_20', 85), ('char_35', 84), ('char_29', 83), ('char_13', 75), ('char_31', 73), ('char_26', 72), ('char_14', 72), ('char_24', 70), ('char_18', 69), ('char_17', 62), ('char_33', 58), ('char_32', 58), ('char_34', 57), ('char_23', 57), ('char_15', 55), ('char_30', 54), ('char_12', 54), ('char_16', 50), ('char_19', 46), ('char_27', 43), ('char_37', 41), ('char_36', 40), ('char_21', 39), ('char_22', 26), ('char_28', 23), ('char_1_x', 16), ('char_3_x', 11), ('char_9_x', 10), ('char_7_x', 7), ('char_8_x', 7), ('char_2_x', 6), ('char_5_x', 5), ('char_6_x', 2), ('char_4_x', 1)]\n",
      "Predict test set...\n",
      "Training time: 31.83 minutes\n",
      "0.97105526533\n"
     ]
    }
   ],
   "source": [
    "target = 'outcome'\n",
    "X_train, X_valid = train_test_split(train, test_size=test_size, random_state=random_state)\n",
    "print('Length train:', len(X_train.index))\n",
    "print('Length valid:', len(X_valid.index))\n",
    "y_train = X_train[target]\n",
    "y_valid = X_valid[target]\n",
    "dtrain = xgb.DMatrix(X_train[features], y_train)\n",
    "dvalid = xgb.DMatrix(X_valid[features], y_valid)\n",
    "\n",
    "watchlist = [(dtrain, 'train'), (dvalid, 'eval')]\n",
    "gbm = xgb.train(params, dtrain, num_boost_round, evals=watchlist, early_stopping_rounds=early_stopping_rounds, verbose_eval=True)\n",
    "\n",
    "print(\"Validating...\")\n",
    "check = gbm.predict(xgb.DMatrix(X_valid[features]), ntree_limit=gbm.best_iteration+1)\n",
    "score = roc_auc_score(X_valid[target].values, check)\n",
    "print('Check error value: {:.6f}'.format(score))\n",
    "\n",
    "imp = get_importance(gbm, features)\n",
    "print('Importance array: ', imp)\n",
    "\n",
    "print(\"Predict test set...\")\n",
    "test_prediction = gbm.predict(xgb.DMatrix(test[features]), ntree_limit=gbm.best_iteration+1)\n",
    "\n",
    "print('Training time: {} minutes'.format(round((time.time() - start_time)/60, 2)))\n",
    "results  = test_prediction.tolist()\n",
    "print(score)"
   ]
  },
  {
   "cell_type": "code",
   "execution_count": 83,
   "metadata": {
    "collapsed": true
   },
   "outputs": [],
   "source": [
    "def create_submission(score, test, prediction):\n",
    "    now = datetime.datetime.now()\n",
    "    sub_file = 'submission_' + str(score) + '_' + str(now.strftime(\"%Y-%m-%d-%H-%M\")) + '.csv'\n",
    "    print('Writing submission: ', sub_file)\n",
    "    f = open(sub_file, 'w')\n",
    "    f.write('activity_id,outcome\\n')\n",
    "    total = 0\n",
    "    for id in test['activity_id']:\n",
    "        str1 = str(id) + ',' + str(prediction[total])\n",
    "        str1 += '\\n'\n",
    "        total += 1\n",
    "        f.write(str1)\n",
    "    f.close()\n",
    "\n",
    "\n"
   ]
  },
  {
   "cell_type": "code",
   "execution_count": 84,
   "metadata": {
    "collapsed": false
   },
   "outputs": [
    {
     "name": "stdout",
     "output_type": "stream",
     "text": [
      "Writing submission:  submission_0.97105526533_2016-09-10-11-49.csv\n"
     ]
    }
   ],
   "source": [
    "create_submission(score, test, test_prediction)"
   ]
  },
  {
   "cell_type": "code",
   "execution_count": null,
   "metadata": {
    "collapsed": true
   },
   "outputs": [],
   "source": [
    "    "
   ]
  },
  {
   "cell_type": "code",
   "execution_count": null,
   "metadata": {
    "collapsed": true
   },
   "outputs": [],
   "source": []
  },
  {
   "cell_type": "code",
   "execution_count": null,
   "metadata": {
    "collapsed": true
   },
   "outputs": [],
   "source": []
  },
  {
   "cell_type": "code",
   "execution_count": null,
   "metadata": {
    "collapsed": true
   },
   "outputs": [],
   "source": []
  },
  {
   "cell_type": "code",
   "execution_count": null,
   "metadata": {
    "collapsed": true
   },
   "outputs": [],
   "source": []
  },
  {
   "cell_type": "code",
   "execution_count": null,
   "metadata": {
    "collapsed": true
   },
   "outputs": [],
   "source": []
  },
  {
   "cell_type": "code",
   "execution_count": null,
   "metadata": {
    "collapsed": true
   },
   "outputs": [],
   "source": []
  },
  {
   "cell_type": "code",
   "execution_count": null,
   "metadata": {
    "collapsed": true
   },
   "outputs": [],
   "source": []
  },
  {
   "cell_type": "code",
   "execution_count": null,
   "metadata": {
    "collapsed": true
   },
   "outputs": [],
   "source": []
  }
 ],
 "metadata": {
  "kernelspec": {
   "display_name": "Python 3",
   "language": "python",
   "name": "python3"
  },
  "language_info": {
   "codemirror_mode": {
    "name": "ipython",
    "version": 3
   },
   "file_extension": ".py",
   "mimetype": "text/x-python",
   "name": "python",
   "nbconvert_exporter": "python",
   "pygments_lexer": "ipython3",
   "version": "3.4.5"
  }
 },
 "nbformat": 4,
 "nbformat_minor": 0
}
